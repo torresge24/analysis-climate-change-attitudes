{
 "cells": [
  {
   "cell_type": "code",
   "execution_count": 33,
   "id": "91500113-5816-4cc9-a514-40e1051cc4cd",
   "metadata": {},
   "outputs": [],
   "source": [
    "import os\n",
    "import graphviz\n",
    "\n",
    "os.environ[\"PATH\"] += os.pathsep + r\"C:\\Users\\torre\\anaconda3\\envs\\surd_env\\Library\\bin\"\n",
    "\n",
    "graphviz.set_default_engine('dot')\n",
    "from graphviz import Digraph"
   ]
  },
  {
   "cell_type": "code",
   "execution_count": 34,
   "id": "434de4d4-e3e5-427f-b317-1aa0c125a4d5",
   "metadata": {},
   "outputs": [
    {
     "data": {
      "text/plain": [
       "'Hypothesized Expected Graph.pdf'"
      ]
     },
     "execution_count": 34,
     "metadata": {},
     "output_type": "execute_result"
    }
   ],
   "source": [
    "variables = [\n",
    "    'S.cc',   # X1\n",
    "    'Att.cc',        # X2\n",
    "    'S.cv',   # X3\n",
    "    'Trust',     # X4\n",
    "    'Ext.wth'      # X5\n",
    "]\n",
    "\n",
    "fixed_positions = {\n",
    "    'S.cc': (1.5, 0.8),\n",
    "    'Att.cc': (2, 2.7),\n",
    "    'S.cv': (0, 1.4),\n",
    "    'Trust': (0, 2.7),\n",
    "    'Ext.wth': (3, 1.7),\n",
    "}\n",
    "\n",
    "# Edges\n",
    "H_edges = [\n",
    "    ('Ext.wth', 'Att.cc', 'none', 'normal'),\n",
    "    ('Att.cc', 'S.cc', 'none', 'normal'),\n",
    "    ('Ext.wth', 'S.cc', 'none', 'normal'),\n",
    "    ('Trust', 'S.cc', 'normal', 'normal'),\n",
    "    ('S.cv', 'Trust', 'normal', 'normal'),\n",
    "]\n",
    "\n",
    "# Use 'neato' for fixed positions\n",
    "H_dot = Digraph(engine=\"neato\")\n",
    "H_dot.attr(dpi='300', fontsize='18')\n",
    "\n",
    "# Add nodes with fixed positions\n",
    "for label in variables:\n",
    "    x, y = fixed_positions[label]\n",
    "    H_dot.node(label, pos=f\"{x},{y}!\", width='0.5', height='0.5')\n",
    "\n",
    "# Add edges\n",
    "for src, tgt, tail, head in H_edges:\n",
    "    H_dot.edge(src, tgt, dir='both', arrowtail=tail, arrowhead=head)\n",
    "\n",
    "# Graph label and style\n",
    "H_dot.attr(label='Hypothesized Graph', labelloc='b', labeljust='l', fontsize='15', fontcolor='gray60')\n",
    "\n",
    "# Render and \n",
    "H_dot.render('Hypothesized Expected Graph', format='png', cleanup=False)\n",
    "H_dot.view()\n"
   ]
  },
  {
   "cell_type": "code",
   "execution_count": 35,
   "id": "6a66c306-ef7a-4e49-9609-cf996daedbb2",
   "metadata": {},
   "outputs": [
    {
     "data": {
      "text/plain": [
       "'surd1.pdf'"
      ]
     },
     "execution_count": 35,
     "metadata": {},
     "output_type": "execute_result"
    }
   ],
   "source": [
    "PC_bootstrapped_dot = Digraph(engine=\"dot\")\n",
    "PC_bootstrapped_dot.attr(dpi='300', fontsize='18')\n",
    "\n",
    "# Add nodes\n",
    "for label in variables:\n",
    "    PC_bootstrapped_dot.node(label)\n",
    "\n",
    "# edges\n",
    "PC_bootstrapped_edges = [\n",
    "    ('S.cc', 'S.cv', 'normal', 'normal'),\n",
    "    ('Att.cc', 'S.cc', 'none', 'normal'),\n",
    "    ('Att.cc', 'S.cv', 'none', 'normal'),\n",
    "    ('S.cv', 'Trust', 'normal', 'none'),\n",
    "    ('Trust', 'S.cc', 'none', 'normal'),\n",
    "    ('Trust', 'Att.cc', 'none', 'normal'),\n",
    "    ('Ext.wth', 'Att.cc', 'none', 'normal'),\n",
    "]\n",
    "\n",
    "# Use 'neato' engine to respect positions!\n",
    "PC_bootstrapped_dot = Digraph(engine=\"neato\")\n",
    "PC_bootstrapped_dot.attr(dpi='300', fontsize='18')\n",
    "\n",
    "# Add nodes with fixed positions\n",
    "for label in variables:\n",
    "    x, y = fixed_positions[label]\n",
    "    PC_bootstrapped_dot.node(label, pos=f\"{x},{y}!\", width='0.5', height='0.5')\n",
    "\n",
    "# Graph label and style\n",
    "PC_bootstrapped_dot.attr(label='Bootstrapped PC', labelloc='b', labeljust='l', fontsize='15', fontcolor='gray60')\n",
    "\n",
    "# Add edges\n",
    "for src, tgt, tail, head in PC_bootstrapped_edges:\n",
    "    PC_bootstrapped_dot.edge(src, tgt, dir='both', arrowtail=tail, arrowhead=head)\n",
    "\n",
    "# Render and open\n",
    "PC_bootstrapped_dot.render('surd1', format='png', cleanup=False)\n",
    "PC_bootstrapped_dot.view()\n"
   ]
  },
  {
   "cell_type": "code",
   "execution_count": 36,
   "id": "c95d6ead-dfa5-42e9-9ef2-667364029052",
   "metadata": {},
   "outputs": [
    {
     "data": {
      "text/plain": [
       "'surd3.pdf'"
      ]
     },
     "execution_count": 36,
     "metadata": {},
     "output_type": "execute_result"
    }
   ],
   "source": [
    "surd_dot = Digraph(engine=\"dot\")\n",
    "surd_dot.attr(dpi='300', fontsize='18')\n",
    "\n",
    "# Add nodes\n",
    "for label in variables:\n",
    "    surd_dot.node(label)\n",
    "\n",
    "# edges\n",
    "surd_edges = [\n",
    "    ('S.cv', 'S.cc', 'normal', 'normal'),\n",
    "    ('Att.cc', 'S.cc', 'normal', 'normal'),\n",
    "    ('Trust', 'Att.cc', 'none', 'normal'),\n",
    "    ('Att.cc', 'S.cv', 'none', 'normal'),\n",
    "    ('Trust', 'S.cv', 'normal', 'normal'),\n",
    "    ('S.cc', 'Trust', 'none', 'normal'),\n",
    "    ('Att.cc', 'Ext.wth', 'none', 'normal')\n",
    "]\n",
    "\n",
    "# Use 'neato' engine to respect positions\n",
    "surd_dot = Digraph(engine=\"neato\")\n",
    "surd_dot.attr(dpi='300', fontsize='18')\n",
    "\n",
    "# Add nodes with fixed positions\n",
    "for label in variables:\n",
    "    x, y = fixed_positions[label]\n",
    "    surd_dot.node(label, pos=f\"{x},{y}!\", width='0.5', height='0.5')\n",
    "\n",
    "# Graph label and style\n",
    "surd_dot.attr(label='SURD', labelloc='b', labeljust='l', fontsize='15', fontcolor='gray60')\n",
    "\n",
    "# Add edges\n",
    "for src, tgt, tail, head in surd_edges:\n",
    "    surd_dot.edge(src, tgt, dir='both', arrowtail=tail, arrowhead=head)\n",
    "\n",
    "# Render and open\n",
    "surd_dot.render('surd3', format='png', cleanup=False)\n",
    "surd_dot.view()\n"
   ]
  },
  {
   "cell_type": "code",
   "execution_count": 37,
   "id": "082fdd20-05c9-4795-92ed-10123ebfb4bd",
   "metadata": {},
   "outputs": [
    {
     "data": {
      "text/plain": [
       "'surd2.pdf'"
      ]
     },
     "execution_count": 37,
     "metadata": {},
     "output_type": "execute_result"
    }
   ],
   "source": [
    "# Edges \n",
    "fci_bootstrapped_edges = [\n",
    "    ('Att.cc', 'S.cc','odot', 'odot'),\n",
    "    ('S.cc', 'Trust', 'odot', 'odot'),\n",
    "    ('S.cv', 'Att.cc', 'odot', 'normal'),\n",
    "    ('S.cv', 'Trust', 'odot', 'odot'),\n",
    "    ('Trust', 'Att.cc', 'odot', 'normal'),\n",
    "    ('Ext.wth', 'Att.cc', 'odot', 'normal'),\n",
    "]\n",
    "\n",
    "# Use 'neato' for fixed positions\n",
    "fci_bootstrapped_dot = Digraph(engine=\"neato\")\n",
    "fci_bootstrapped_dot.attr(dpi='300', fontsize='18')\n",
    "\n",
    "# Add nodes with fixed positions\n",
    "for label in variables:\n",
    "    x, y = fixed_positions[label]\n",
    "    fci_bootstrapped_dot.node(label, pos=f\"{x},{y}!\", width='0.5', height='0.5')\n",
    "\n",
    "# Add edges\n",
    "for src, tgt, tail, head in fci_bootstrapped_edges:\n",
    "    fci_bootstrapped_dot.edge(src, tgt, dir='both', arrowtail=tail, arrowhead=head)\n",
    "\n",
    "# Graph label and style\n",
    "fci_bootstrapped_dot.attr(label='Bootstrapped FCI', labelloc='b', labeljust='l', fontsize='15', fontcolor='gray60')\n",
    "\n",
    "# Render and open\n",
    "fci_bootstrapped_dot.render('surd2', format='png', cleanup=False)\n",
    "fci_bootstrapped_dot.view()"
   ]
  },
  {
   "cell_type": "code",
   "execution_count": 32,
   "id": "e99ef835-bd26-44b0-a030-f990f87bb004",
   "metadata": {},
   "outputs": [],
   "source": [
    "from PIL import Image\n",
    "\n",
    "# Combine PC images\n",
    "images = [Image.open(f'surd{i}.png') for i in range(1, 4)]\n",
    "\n",
    "# Make sure all images are the same height\n",
    "min_height = min(im.height for im in pc_images)\n",
    "images = [im.resize((int(im.width * min_height / im.height), min_height), Image.LANCZOS) for im in images]\n",
    "\n",
    "total_width = sum(im.width for im in images)\n",
    "combined = Image.new('RGBA', (total_width, min_height))\n",
    "\n",
    "x_offset = 0\n",
    "for im in pc_images:\n",
    "    combined.paste(im, (x_offset, 0))\n",
    "    x_offset += im.width\n",
    "\n",
    "combined.save('front.png')\n"
   ]
  }
 ],
 "metadata": {
  "kernelspec": {
   "display_name": "Python (surd_env)",
   "language": "python",
   "name": "surd_env"
  },
  "language_info": {
   "codemirror_mode": {
    "name": "ipython",
    "version": 3
   },
   "file_extension": ".py",
   "mimetype": "text/x-python",
   "name": "python",
   "nbconvert_exporter": "python",
   "pygments_lexer": "ipython3",
   "version": "3.9.21"
  }
 },
 "nbformat": 4,
 "nbformat_minor": 5
}
